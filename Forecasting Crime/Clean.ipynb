{
 "cells": [
  {
   "cell_type": "code",
   "execution_count": 1,
   "metadata": {},
   "outputs": [],
   "source": [
    "import joblib\n",
    "import pandas as pd"
   ]
  },
  {
   "cell_type": "code",
   "execution_count": 2,
   "metadata": {},
   "outputs": [
    {
     "data": {
      "text/plain": [
       "(20000, 22)"
      ]
     },
     "execution_count": 2,
     "metadata": {},
     "output_type": "execute_result"
    }
   ],
   "source": [
    "file_path_train = r'C:\\Users\\nhl08\\OneDrive\\Documents\\AI02\\Udemy\\Forecasting Crime\\cleaned_train.csv'\n",
    "df_train = pd.read_csv(file_path_train)\n",
    "df_train.shape"
   ]
  },
  {
   "cell_type": "code",
   "execution_count": 3,
   "metadata": {},
   "outputs": [
    {
     "data": {
      "text/plain": [
       "(5000, 21)"
      ]
     },
     "execution_count": 3,
     "metadata": {},
     "output_type": "execute_result"
    }
   ],
   "source": [
    "file_path_test = r'C:\\Users\\nhl08\\OneDrive\\Documents\\AI02\\Udemy\\Forecasting Crime\\test.csv'\n",
    "df_test = pd.read_csv(file_path_test)\n",
    "df_test.shape"
   ]
  },
  {
   "cell_type": "code",
   "execution_count": 4,
   "metadata": {},
   "outputs": [
    {
     "name": "stdout",
     "output_type": "stream",
     "text": [
      "<class 'pandas.core.frame.DataFrame'>\n",
      "RangeIndex: 5000 entries, 0 to 4999\n",
      "Data columns (total 21 columns):\n",
      " #   Column                 Non-Null Count  Dtype  \n",
      "---  ------                 --------------  -----  \n",
      " 0   Location               5000 non-null   object \n",
      " 1   Cross_Street           810 non-null    object \n",
      " 2   Latitude               5000 non-null   float64\n",
      " 3   Longitude              5000 non-null   float64\n",
      " 4   Date_Reported          5000 non-null   object \n",
      " 5   Date_Occurred          5000 non-null   object \n",
      " 6   Time_Occurred          5000 non-null   float64\n",
      " 7   Area_ID                5000 non-null   float64\n",
      " 8   Area_Name              5000 non-null   object \n",
      " 9   Reporting_District_no  5000 non-null   float64\n",
      " 10  Part 1-2               5000 non-null   float64\n",
      " 11  Modus_Operandi         4316 non-null   object \n",
      " 12  Victim_Age             5000 non-null   float64\n",
      " 13  Victim_Sex             4357 non-null   object \n",
      " 14  Victim_Descent         4357 non-null   object \n",
      " 15  Premise_Code           5000 non-null   float64\n",
      " 16  Premise_Description    4999 non-null   object \n",
      " 17  Weapon_Used_Code       1847 non-null   float64\n",
      " 18  Weapon_Description     1847 non-null   object \n",
      " 19  Status                 5000 non-null   object \n",
      " 20  Status_Description     5000 non-null   object \n",
      "dtypes: float64(9), object(12)\n",
      "memory usage: 820.4+ KB\n"
     ]
    }
   ],
   "source": [
    "df_test.info()"
   ]
  },
  {
   "cell_type": "code",
   "execution_count": 5,
   "metadata": {},
   "outputs": [],
   "source": [
    "date_format = '%m/%d/%Y %I:%M:%S %p'\n",
    "\n",
    "df_test['Date_Reported'] = pd.to_datetime(df_test['Date_Reported'], format=date_format)\n",
    "df_test['Date_Occurred'] = pd.to_datetime(df_test['Date_Occurred'], format=date_format)"
   ]
  },
  {
   "cell_type": "code",
   "execution_count": 6,
   "metadata": {},
   "outputs": [],
   "source": [
    "df_test['Year_Reported'] = df_test['Date_Reported'].dt.year\n",
    "df_test['Month_Reported'] = df_test['Date_Reported'].dt.month\n",
    "df_test['Day_Reported'] = df_test['Date_Reported'].dt.day\n",
    "df_test['Hour_Occurred'] = df_test['Time_Occurred'].apply(lambda x: int(x // 100))"
   ]
  },
  {
   "cell_type": "code",
   "execution_count": 7,
   "metadata": {},
   "outputs": [],
   "source": [
    "df_cleaned = df_test.drop(columns=['Date_Reported', 'Date_Occurred', 'Cross_Street'])"
   ]
  },
  {
   "cell_type": "code",
   "execution_count": 8,
   "metadata": {},
   "outputs": [],
   "source": [
    "categorical_columns = df_cleaned.select_dtypes(include='object').columns.tolist()"
   ]
  },
  {
   "cell_type": "code",
   "execution_count": 9,
   "metadata": {},
   "outputs": [
    {
     "data": {
      "text/plain": [
       "Location                  0\n",
       "Area_Name                 0\n",
       "Modus_Operandi          684\n",
       "Victim_Sex              643\n",
       "Victim_Descent          643\n",
       "Premise_Description       1\n",
       "Weapon_Description     3153\n",
       "Status                    0\n",
       "Status_Description        0\n",
       "dtype: int64"
      ]
     },
     "execution_count": 9,
     "metadata": {},
     "output_type": "execute_result"
    }
   ],
   "source": [
    "df_cleaned[categorical_columns].isnull().sum()"
   ]
  },
  {
   "cell_type": "code",
   "execution_count": 10,
   "metadata": {},
   "outputs": [],
   "source": [
    "victim_sex_mode = df_cleaned['Victim_Sex'].mode()[0]\n",
    "victim_descent_mode = df_cleaned['Victim_Descent'].mode()[0]\n",
    "Modus_Operandi_mode = df_cleaned['Modus_Operandi'].mode()[0]\n",
    "Premise_Description_mode = df_cleaned['Premise_Description'].mode()[0]"
   ]
  },
  {
   "cell_type": "code",
   "execution_count": 11,
   "metadata": {},
   "outputs": [],
   "source": [
    "df_cleaned['Weapon_Description'] = df_cleaned['Weapon_Description'].fillna('No Weapon Used')\n",
    "df_cleaned['Victim_Sex'] = df_cleaned['Victim_Sex'].fillna(victim_sex_mode)\n",
    "df_cleaned['Victim_Descent'] = df_cleaned['Victim_Descent'].fillna(victim_descent_mode)\n",
    "df_cleaned['Modus_Operandi'] = df_cleaned['Modus_Operandi'].fillna(Modus_Operandi_mode)\n",
    "df_cleaned['Premise_Description'] = df_cleaned['Premise_Description'].fillna(Premise_Description_mode)"
   ]
  },
  {
   "cell_type": "code",
   "execution_count": 12,
   "metadata": {},
   "outputs": [
    {
     "data": {
      "text/plain": [
       "Location               0\n",
       "Area_Name              0\n",
       "Modus_Operandi         0\n",
       "Victim_Sex             0\n",
       "Victim_Descent         0\n",
       "Premise_Description    0\n",
       "Weapon_Description     0\n",
       "Status                 0\n",
       "Status_Description     0\n",
       "dtype: int64"
      ]
     },
     "execution_count": 12,
     "metadata": {},
     "output_type": "execute_result"
    }
   ],
   "source": [
    "df_cleaned[categorical_columns].isnull().sum()"
   ]
  },
  {
   "cell_type": "code",
   "execution_count": 13,
   "metadata": {},
   "outputs": [],
   "source": [
    "num = ['float64', 'int32']\n",
    "numerical_columns = df_cleaned.select_dtypes(include=num).columns.tolist()"
   ]
  },
  {
   "cell_type": "code",
   "execution_count": 14,
   "metadata": {},
   "outputs": [
    {
     "data": {
      "text/plain": [
       "Latitude                    0\n",
       "Longitude                   0\n",
       "Time_Occurred               0\n",
       "Area_ID                     0\n",
       "Reporting_District_no       0\n",
       "Part 1-2                    0\n",
       "Victim_Age                  0\n",
       "Premise_Code                0\n",
       "Weapon_Used_Code         3153\n",
       "Year_Reported               0\n",
       "Month_Reported              0\n",
       "Day_Reported                0\n",
       "dtype: int64"
      ]
     },
     "execution_count": 14,
     "metadata": {},
     "output_type": "execute_result"
    }
   ],
   "source": [
    "df_cleaned[numerical_columns].isnull().sum()"
   ]
  },
  {
   "cell_type": "code",
   "execution_count": 15,
   "metadata": {},
   "outputs": [],
   "source": [
    "from sklearn.pipeline import Pipeline\n",
    "from sklearn.compose import ColumnTransformer\n",
    "from sklearn.impute import SimpleImputer\n",
    "from sklearn.preprocessing import StandardScaler, OrdinalEncoder, LabelEncoder\n",
    "\n",
    "categorical_transformer = Pipeline(steps=[\n",
    "    ('ordinal_encoder', OrdinalEncoder(handle_unknown='use_encoded_value', unknown_value=-1))\n",
    "])\n",
    "\n",
    "numerical_transformer = Pipeline(steps=[\n",
    "    ('imputer', SimpleImputer(strategy='median')),\n",
    "    ('scaler', StandardScaler())\n",
    "])"
   ]
  },
  {
   "cell_type": "code",
   "execution_count": 16,
   "metadata": {},
   "outputs": [],
   "source": [
    "preprocessor = ColumnTransformer(\n",
    "    transformers=[\n",
    "        ('num', numerical_transformer, numerical_columns),\n",
    "        ('cat', categorical_transformer, categorical_columns)\n",
    "    ]\n",
    ")"
   ]
  },
  {
   "cell_type": "code",
   "execution_count": 17,
   "metadata": {},
   "outputs": [],
   "source": [
    "df_cleaned = preprocessor.fit_transform(df_cleaned)"
   ]
  },
  {
   "cell_type": "code",
   "execution_count": 18,
   "metadata": {},
   "outputs": [
    {
     "data": {
      "text/plain": [
       "(5000, 21)"
      ]
     },
     "execution_count": 18,
     "metadata": {},
     "output_type": "execute_result"
    }
   ],
   "source": [
    "df_cleaned.shape"
   ]
  },
  {
   "cell_type": "code",
   "execution_count": 19,
   "metadata": {},
   "outputs": [],
   "source": [
    "df_cleaned = pd.DataFrame(df_cleaned, columns=numerical_columns + categorical_columns)"
   ]
  },
  {
   "cell_type": "code",
   "execution_count": 20,
   "metadata": {},
   "outputs": [
    {
     "data": {
      "text/plain": [
       "Latitude                 0\n",
       "Longitude                0\n",
       "Time_Occurred            0\n",
       "Area_ID                  0\n",
       "Reporting_District_no    0\n",
       "Part 1-2                 0\n",
       "Victim_Age               0\n",
       "Premise_Code             0\n",
       "Weapon_Used_Code         0\n",
       "Year_Reported            0\n",
       "Month_Reported           0\n",
       "Day_Reported             0\n",
       "Location                 0\n",
       "Area_Name                0\n",
       "Modus_Operandi           0\n",
       "Victim_Sex               0\n",
       "Victim_Descent           0\n",
       "Premise_Description      0\n",
       "Weapon_Description       0\n",
       "Status                   0\n",
       "Status_Description       0\n",
       "dtype: int64"
      ]
     },
     "execution_count": 20,
     "metadata": {},
     "output_type": "execute_result"
    }
   ],
   "source": [
    "df_cleaned.isnull().sum()"
   ]
  },
  {
   "cell_type": "code",
   "execution_count": 21,
   "metadata": {},
   "outputs": [],
   "source": [
    "df_cleaned.to_csv('cleaned_test.csv', mode='a', index=False)"
   ]
  }
 ],
 "metadata": {
  "kernelspec": {
   "display_name": ".mvenv",
   "language": "python",
   "name": "python3"
  },
  "language_info": {
   "codemirror_mode": {
    "name": "ipython",
    "version": 3
   },
   "file_extension": ".py",
   "mimetype": "text/x-python",
   "name": "python",
   "nbconvert_exporter": "python",
   "pygments_lexer": "ipython3",
   "version": "3.12.4"
  }
 },
 "nbformat": 4,
 "nbformat_minor": 2
}
