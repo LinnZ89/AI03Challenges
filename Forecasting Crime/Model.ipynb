{
 "cells": [
  {
   "cell_type": "code",
   "execution_count": 1,
   "metadata": {},
   "outputs": [],
   "source": [
    "import pandas as pd\n",
    "from sklearn.model_selection import train_test_split\n",
    "from sklearn.metrics import accuracy_score, classification_report, confusion_matrix\n",
    "from sklearn.preprocessing import LabelEncoder\n",
    "import numpy as np"
   ]
  },
  {
   "cell_type": "code",
   "execution_count": 2,
   "metadata": {},
   "outputs": [
    {
     "data": {
      "text/plain": [
       "(20000, 22)"
      ]
     },
     "execution_count": 2,
     "metadata": {},
     "output_type": "execute_result"
    }
   ],
   "source": [
    "file_path = r'C:\\Users\\nhl08\\OneDrive\\Documents\\AI02\\Udemy\\Forecasting Crime\\cleaned_train.csv'\n",
    "df = pd.read_csv(file_path)\n",
    "df.shape"
   ]
  },
  {
   "cell_type": "code",
   "execution_count": 3,
   "metadata": {},
   "outputs": [
    {
     "name": "stdout",
     "output_type": "stream",
     "text": [
      "<class 'pandas.core.frame.DataFrame'>\n",
      "RangeIndex: 20000 entries, 0 to 19999\n",
      "Data columns (total 22 columns):\n",
      " #   Column                 Non-Null Count  Dtype  \n",
      "---  ------                 --------------  -----  \n",
      " 0   Latitude               20000 non-null  float64\n",
      " 1   Longitude              20000 non-null  float64\n",
      " 2   Time_Occurred          20000 non-null  float64\n",
      " 3   Area_ID                20000 non-null  float64\n",
      " 4   Reporting_District_no  20000 non-null  float64\n",
      " 5   Part 1-2               20000 non-null  float64\n",
      " 6   Victim_Age             20000 non-null  float64\n",
      " 7   Premise_Code           20000 non-null  float64\n",
      " 8   Weapon_Used_Code       20000 non-null  float64\n",
      " 9   Year_Reported          20000 non-null  float64\n",
      " 10  Month_Reported         20000 non-null  float64\n",
      " 11  Day_Reported           20000 non-null  float64\n",
      " 12  Location               20000 non-null  float64\n",
      " 13  Area_Name              20000 non-null  float64\n",
      " 14  Modus_Operandi         20000 non-null  float64\n",
      " 15  Victim_Sex             20000 non-null  float64\n",
      " 16  Victim_Descent         20000 non-null  float64\n",
      " 17  Premise_Description    20000 non-null  float64\n",
      " 18  Weapon_Description     20000 non-null  float64\n",
      " 19  Status                 20000 non-null  float64\n",
      " 20  Status_Description     20000 non-null  float64\n",
      " 21  Crime_Category         20000 non-null  object \n",
      "dtypes: float64(21), object(1)\n",
      "memory usage: 3.4+ MB\n"
     ]
    }
   ],
   "source": [
    "df.info()"
   ]
  },
  {
   "cell_type": "code",
   "execution_count": 9,
   "metadata": {},
   "outputs": [
    {
     "name": "stdout",
     "output_type": "stream",
     "text": [
      "(20000, 21)\n",
      "(20000,)\n"
     ]
    }
   ],
   "source": [
    "X = np.array(df.iloc[:, : -1].values)\n",
    "y = np.array(df.iloc[:, -1].values)\n",
    "\n",
    "label_encoder = LabelEncoder()\n",
    "y_encoded = label_encoder.fit_transform(y)\n",
    "\n",
    "print(X.shape)\n",
    "print(y_encoded.shape)"
   ]
  },
  {
   "cell_type": "code",
   "execution_count": 11,
   "metadata": {},
   "outputs": [
    {
     "data": {
      "text/plain": [
       "['label_encoder.joblib']"
      ]
     },
     "execution_count": 11,
     "metadata": {},
     "output_type": "execute_result"
    }
   ],
   "source": [
    "from joblib import dump\n",
    "\n",
    "dump(label_encoder, 'label_encoder.joblib')"
   ]
  },
  {
   "cell_type": "code",
   "execution_count": 10,
   "metadata": {},
   "outputs": [
    {
     "name": "stdout",
     "output_type": "stream",
     "text": [
      "[4 4 4 ... 4 1 4]\n"
     ]
    }
   ],
   "source": [
    "print(y_encoded)"
   ]
  },
  {
   "cell_type": "code",
   "execution_count": 13,
   "metadata": {},
   "outputs": [
    {
     "name": "stdout",
     "output_type": "stream",
     "text": [
      "(16000, 21) (4000, 21) (16000,) (4000,)\n"
     ]
    }
   ],
   "source": [
    "X_train, X_test, y_train, y_test = train_test_split(X, y_encoded, test_size=0.2, random_state=42)\n",
    "\n",
    "print(X_train.shape, X_test.shape, y_train.shape, y_test.shape)"
   ]
  },
  {
   "cell_type": "code",
   "execution_count": 14,
   "metadata": {},
   "outputs": [],
   "source": [
    "def evaluate_model(model, X_train, y_train, X_test, y_test):\n",
    "    model.fit(X_train, y_train)\n",
    "    y_test_pred = model.predict(X_test)\n",
    "    \n",
    "    accuracy = accuracy_score(y_test, y_test_pred)\n",
    "    report = classification_report(y_test, y_test_pred, zero_division=1)\n",
    "    conf_matrix = confusion_matrix(y_test, y_test_pred)\n",
    "    \n",
    "    return accuracy, report, conf_matrix"
   ]
  },
  {
   "cell_type": "code",
   "execution_count": 15,
   "metadata": {},
   "outputs": [
    {
     "name": "stdout",
     "output_type": "stream",
     "text": [
      "(0.61475, '              precision    recall  f1-score   support\\n\\n           0       1.00      0.00      0.00        32\\n           1       0.00      0.00      0.00       374\\n           2       1.00      0.00      0.00       267\\n           3       0.00      0.00      0.00        35\\n           4       0.66      0.87      0.75      2303\\n           5       0.48      0.45      0.46       989\\n\\n    accuracy                           0.61      4000\\n   macro avg       0.52      0.22      0.20      4000\\nweighted avg       0.57      0.61      0.55      4000\\n', array([[   0,    0,    0,    0,   19,   13],\n",
      "       [   0,    0,    0,    0,  241,  133],\n",
      "       [   0,    0,    0,    2,  223,   42],\n",
      "       [   0,    0,    0,    0,   26,    9],\n",
      "       [   0,    2,    0,    1, 2013,  287],\n",
      "       [   0,    3,    0,    2,  538,  446]], dtype=int64))\n"
     ]
    },
    {
     "name": "stderr",
     "output_type": "stream",
     "text": [
      "c:\\Users\\nhl08\\OneDrive\\Documents\\AI02\\Udemy\\.mvenv\\Lib\\site-packages\\sklearn\\linear_model\\_logistic.py:469: ConvergenceWarning: lbfgs failed to converge (status=1):\n",
      "STOP: TOTAL NO. of ITERATIONS REACHED LIMIT.\n",
      "\n",
      "Increase the number of iterations (max_iter) or scale the data as shown in:\n",
      "    https://scikit-learn.org/stable/modules/preprocessing.html\n",
      "Please also refer to the documentation for alternative solver options:\n",
      "    https://scikit-learn.org/stable/modules/linear_model.html#logistic-regression\n",
      "  n_iter_i = _check_optimize_result(\n"
     ]
    }
   ],
   "source": [
    "from sklearn.linear_model import LogisticRegression\n",
    "\n",
    "lr_model = LogisticRegression(multi_class='multinomial', solver='lbfgs')\n",
    "\n",
    "print(evaluate_model(lr_model, X_train, y_train, X_test, y_test))"
   ]
  },
  {
   "cell_type": "code",
   "execution_count": 16,
   "metadata": {},
   "outputs": [
    {
     "name": "stdout",
     "output_type": "stream",
     "text": [
      "(0.881, '              precision    recall  f1-score   support\\n\\n           0       0.35      0.53      0.42        32\\n           1       0.68      0.67      0.68       374\\n           2       0.88      0.84      0.86       267\\n           3       0.12      0.17      0.14        35\\n           4       0.95      0.95      0.95      2303\\n           5       0.86      0.85      0.86       989\\n\\n    accuracy                           0.88      4000\\n   macro avg       0.64      0.67      0.65      4000\\nweighted avg       0.89      0.88      0.88      4000\\n', array([[  17,    7,    0,    0,    0,    8],\n",
      "       [   5,  252,   19,   20,   38,   40],\n",
      "       [   1,   28,  223,    9,    5,    1],\n",
      "       [   2,   15,    7,    6,    5,    0],\n",
      "       [   1,   22,    4,   12, 2181,   83],\n",
      "       [  22,   44,    1,    4,   73,  845]], dtype=int64))\n"
     ]
    }
   ],
   "source": [
    "from sklearn.tree import DecisionTreeClassifier\n",
    "\n",
    "dt_model = DecisionTreeClassifier()\n",
    "\n",
    "print(evaluate_model(dt_model, X_train, y_train, X_test, y_test))"
   ]
  },
  {
   "cell_type": "code",
   "execution_count": 17,
   "metadata": {},
   "outputs": [
    {
     "name": "stdout",
     "output_type": "stream",
     "text": [
      "(0.90125, '              precision    recall  f1-score   support\\n\\n           0       0.62      0.47      0.54        32\\n           1       0.79      0.65      0.71       374\\n           2       0.81      0.87      0.84       267\\n           3       0.80      0.11      0.20        35\\n           4       0.95      0.95      0.95      2303\\n           5       0.86      0.93      0.89       989\\n\\n    accuracy                           0.90      4000\\n   macro avg       0.81      0.66      0.69      4000\\nweighted avg       0.90      0.90      0.90      4000\\n', array([[  15,    1,    1,    0,    1,   14],\n",
      "       [   1,  242,   36,    0,   36,   59],\n",
      "       [   0,   17,  232,    0,   18,    0],\n",
      "       [   1,   15,    4,    4,   11,    0],\n",
      "       [   0,   21,    9,    1, 2193,   79],\n",
      "       [   7,   11,    3,    0,   49,  919]], dtype=int64))\n"
     ]
    }
   ],
   "source": [
    "from sklearn.ensemble import RandomForestClassifier\n",
    "\n",
    "rfc_model = RandomForestClassifier()\n",
    "\n",
    "print(evaluate_model(rfc_model, X_train, y_train, X_test, y_test))"
   ]
  },
  {
   "cell_type": "code",
   "execution_count": 18,
   "metadata": {},
   "outputs": [
    {
     "name": "stdout",
     "output_type": "stream",
     "text": [
      "(0.91525, '              precision    recall  f1-score   support\\n\\n           0       0.60      0.66      0.63        32\\n           1       0.78      0.74      0.76       374\\n           2       0.93      0.89      0.91       267\\n           3       0.60      0.26      0.36        35\\n           4       0.96      0.96      0.96      2303\\n           5       0.87      0.91      0.89       989\\n\\n    accuracy                           0.92      4000\\n   macro avg       0.79      0.74      0.75      4000\\nweighted avg       0.91      0.92      0.91      4000\\n', array([[  21,    0,    0,    0,    0,   11],\n",
      "       [   2,  278,   13,    3,   20,   58],\n",
      "       [   0,   27,  237,    0,    3,    0],\n",
      "       [   0,   19,    3,    9,    4,    0],\n",
      "       [   1,   19,    3,    3, 2214,   63],\n",
      "       [  11,   15,    0,    0,   61,  902]], dtype=int64))\n"
     ]
    }
   ],
   "source": [
    "from xgboost import XGBClassifier\n",
    "\n",
    "xgbc_model = XGBClassifier()\n",
    "\n",
    "print(evaluate_model(xgbc_model, X_train, y_train, X_test, y_test))"
   ]
  },
  {
   "cell_type": "code",
   "execution_count": 19,
   "metadata": {},
   "outputs": [
    {
     "name": "stdout",
     "output_type": "stream",
     "text": [
      "(0.74625, '              precision    recall  f1-score   support\\n\\n           0       0.11      0.06      0.08        32\\n           1       0.40      0.37      0.38       374\\n           2       0.54      0.56      0.55       267\\n           3       0.14      0.03      0.05        35\\n           4       0.84      0.89      0.86      2303\\n           5       0.71      0.65      0.68       989\\n\\n    accuracy                           0.75      4000\\n   macro avg       0.46      0.43      0.43      4000\\nweighted avg       0.73      0.75      0.74      4000\\n', array([[   2,    5,    0,    0,    5,   20],\n",
      "       [   2,  138,   23,    1,  109,  101],\n",
      "       [   2,   22,  150,    0,   68,   25],\n",
      "       [   0,    3,    3,    1,   18,   10],\n",
      "       [   7,   76,   57,    3, 2052,  108],\n",
      "       [   6,  100,   47,    2,  192,  642]], dtype=int64))\n"
     ]
    }
   ],
   "source": [
    "from sklearn.neighbors import KNeighborsClassifier\n",
    "\n",
    "knn_model = KNeighborsClassifier(n_neighbors=5)\n",
    "\n",
    "print(evaluate_model(knn_model, X_train, y_train, X_test, y_test))"
   ]
  },
  {
   "cell_type": "code",
   "execution_count": 20,
   "metadata": {},
   "outputs": [
    {
     "data": {
      "text/plain": [
       "['xgboost_model.joblib']"
      ]
     },
     "execution_count": 20,
     "metadata": {},
     "output_type": "execute_result"
    }
   ],
   "source": [
    "import joblib\n",
    "\n",
    "joblib.dump(xgbc_model, 'xgboost_model.joblib')"
   ]
  }
 ],
 "metadata": {
  "kernelspec": {
   "display_name": ".mvenv",
   "language": "python",
   "name": "python3"
  },
  "language_info": {
   "codemirror_mode": {
    "name": "ipython",
    "version": 3
   },
   "file_extension": ".py",
   "mimetype": "text/x-python",
   "name": "python",
   "nbconvert_exporter": "python",
   "pygments_lexer": "ipython3",
   "version": "3.12.4"
  }
 },
 "nbformat": 4,
 "nbformat_minor": 2
}
