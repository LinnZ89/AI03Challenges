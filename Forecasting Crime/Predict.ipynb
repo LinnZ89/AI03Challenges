{
 "cells": [
  {
   "cell_type": "code",
   "execution_count": 1,
   "metadata": {},
   "outputs": [],
   "source": [
    "import joblib\n",
    "import pandas as pd\n",
    "import numpy as np"
   ]
  },
  {
   "cell_type": "code",
   "execution_count": 2,
   "metadata": {},
   "outputs": [
    {
     "data": {
      "text/plain": [
       "(5000, 21)"
      ]
     },
     "execution_count": 2,
     "metadata": {},
     "output_type": "execute_result"
    }
   ],
   "source": [
    "file_path_test = r'C:\\Users\\nhl08\\OneDrive\\Documents\\AI02\\Udemy\\Forecasting Crime\\cleaned_test.csv'\n",
    "df_test = pd.read_csv(file_path_test)\n",
    "df_test.shape"
   ]
  },
  {
   "cell_type": "code",
   "execution_count": 3,
   "metadata": {},
   "outputs": [
    {
     "name": "stdout",
     "output_type": "stream",
     "text": [
      "(5000, 21)\n"
     ]
    }
   ],
   "source": [
    "X_test = np.array(df_test.iloc[:, :].values)\n",
    "print(X_test.shape)"
   ]
  },
  {
   "cell_type": "code",
   "execution_count": 4,
   "metadata": {},
   "outputs": [],
   "source": [
    "loaded_model = joblib.load('xgboost_model.joblib')\n",
    "\n",
    "y_pred = loaded_model.predict(X_test)"
   ]
  },
  {
   "cell_type": "code",
   "execution_count": 5,
   "metadata": {},
   "outputs": [
    {
     "name": "stdout",
     "output_type": "stream",
     "text": [
      "[4 4 1 ... 5 4 1]\n"
     ]
    }
   ],
   "source": [
    "print(y_pred)"
   ]
  },
  {
   "cell_type": "code",
   "execution_count": 6,
   "metadata": {},
   "outputs": [
    {
     "name": "stdout",
     "output_type": "stream",
     "text": [
      "Decoded labels: ['Property Crimes' 'Property Crimes' 'Crimes against Public Order' ...\n",
      " 'Violent Crimes' 'Property Crimes' 'Crimes against Public Order']\n"
     ]
    }
   ],
   "source": [
    "label_encoder = joblib.load('label_encoder.joblib')\n",
    "y_decoded = label_encoder.inverse_transform(y_pred)\n",
    "print(\"Decoded labels:\", y_decoded)"
   ]
  },
  {
   "cell_type": "code",
   "execution_count": 7,
   "metadata": {},
   "outputs": [],
   "source": [
    "predict_numbers = np.arange(1, len(y_decoded) + 1)\n",
    "\n",
    "data = pd.DataFrame({\n",
    "    \"ID\": predict_numbers,\n",
    "    \"Crime_Category\": y_decoded\n",
    "})\n",
    "\n",
    "data.to_csv(\"submission.csv\", index=False)"
   ]
  }
 ],
 "metadata": {
  "kernelspec": {
   "display_name": ".mvenv",
   "language": "python",
   "name": "python3"
  },
  "language_info": {
   "codemirror_mode": {
    "name": "ipython",
    "version": 3
   },
   "file_extension": ".py",
   "mimetype": "text/x-python",
   "name": "python",
   "nbconvert_exporter": "python",
   "pygments_lexer": "ipython3",
   "version": "3.12.4"
  }
 },
 "nbformat": 4,
 "nbformat_minor": 2
}
